{
 "cells": [
  {
   "cell_type": "code",
   "execution_count": 8,
   "metadata": {},
   "outputs": [],
   "source": [
    "import requests\n",
    "import pandas as pd"
   ]
  },
  {
   "cell_type": "code",
   "execution_count": 15,
   "metadata": {},
   "outputs": [],
   "source": [
    "LAST_FM_KEY = 'your lastfm key'\n",
    "USERNAME_LAST = 'your lastfm username'\n",
    "key = LAST_FM_KEY\n",
    "username = USERNAME_LAST\n",
    "client_id = 'your spotify client id'\n",
    "client_secret = 'your spotify client secret'"
   ]
  },
  {
   "cell_type": "code",
   "execution_count": 16,
   "metadata": {},
   "outputs": [],
   "source": [
    "import spotipy\n",
    "from spotipy.oauth2 import SpotifyClientCredentials"
   ]
  },
  {
   "cell_type": "code",
   "execution_count": 17,
   "metadata": {},
   "outputs": [],
   "source": [
    "client_credentials_manager = SpotifyClientCredentials(client_id=client_id,\n",
    "                                                      client_secret=client_secret)\n",
    "sp = spotipy.Spotify(client_credentials_manager=client_credentials_manager)\n"
   ]
  },
  {
   "cell_type": "code",
   "execution_count": 18,
   "metadata": {},
   "outputs": [],
   "source": [
    "def get_scrobbles(username=username, api_key=key, limit=200, page=1):\n",
    "    url = 'https://ws.audioscrobbler.com/2.0/?method=user.getrecenttracks&user={}&api_key={}&limit={}&page={}&format=json'\n",
    "\n",
    "    responses = []\n",
    "    artist_names = []\n",
    "    track_names = []\n",
    "\n",
    "    request_url = url.format(username, api_key, limit, page)\n",
    "    response = requests.get(request_url).json()\n",
    "    pages = int(response['recenttracks']['@attr']['totalPages'])\n",
    "\n",
    "    print('{} total pages to retrieve'.format(pages))\n",
    "\n",
    "    for page in range(1, int(pages) + 1):\n",
    "        if page % 10 == 0:\n",
    "            print(page)\n",
    "        request_url = url.format(username, api_key, limit, page)\n",
    "        responses.append(requests.get(request_url))\n",
    "\n",
    "    for response in responses:\n",
    "        scrobbles = response.json()\n",
    "        for scrobble in scrobbles['recenttracks']['track']:\n",
    "            artist_names.append(scrobble['artist']['#text'])\n",
    "            track_names.append(scrobble['name'])\n",
    "    \n",
    "    return artist_names, track_names"
   ]
  },
  {
   "cell_type": "code",
   "execution_count": 19,
   "metadata": {},
   "outputs": [],
   "source": [
    "def get_spotify_uris():\n",
    "    saved_uris = []\n",
    "    artist_names, track_names = get_scrobbles()\n",
    "    \n",
    "    for i in range(len(artist_names)):\n",
    "        artist = artist_names[i]\n",
    "        track = track_names[i]\n",
    "        q = 'artist:{} track: {}'.format(artist, track)\n",
    "        results = sp.search(q=q, limit=1, type='track')\n",
    "        uri = results['tracks']['items'][0]['uri']\n",
    "        saved_uris.append(uri)\n",
    "        \n",
    "    return saved_uris"
   ]
  },
  {
   "cell_type": "code",
   "execution_count": 20,
   "metadata": {},
   "outputs": [],
   "source": [
    "def get_audio_features():\n",
    "    uris = get_spotify_uris()\n",
    "    \n",
    "    artist = []\n",
    "    track = []\n",
    "    danceability = []\n",
    "    energy = []\n",
    "    key = []\n",
    "    loudness = []\n",
    "    mode = []\n",
    "    speechiness = []\n",
    "    acousticness = []\n",
    "    instrumentalness = []\n",
    "    liveness = []\n",
    "    valence = []\n",
    "    tempo = []\n",
    "    urri = []\n",
    "    duration_ms = []\n",
    "\n",
    "    for uri in uris:\n",
    "        x = sp.audio_features(uri)\n",
    "        y = sp.track(uri)\n",
    "        for audio_features in x:\n",
    "            danceability.append(audio_features['danceability'])\n",
    "            energy.append(audio_features['energy'])\n",
    "            key.append(audio_features['key'])\n",
    "            loudness.append(audio_features['loudness'])\n",
    "            mode.append(audio_features['mode'])\n",
    "            speechiness.append(audio_features['speechiness'])\n",
    "            acousticness.append(audio_features['acousticness'])\n",
    "            instrumentalness.append(audio_features['instrumentalness'])\n",
    "            liveness.append(audio_features['liveness'])\n",
    "            valence.append(audio_features['valence'])\n",
    "            tempo.append(audio_features['tempo'])\n",
    "            urri.append(audio_features['uri'])\n",
    "            duration_ms.append(audio_features['duration_ms'])\n",
    "            print('append')\n",
    "      \n",
    "        artist.append(y['album']['artists'][0]['name'])\n",
    "        track.append(y['name'])\n",
    "\n",
    "    df = pd.DataFrame()\n",
    "    df['artist'] = artist\n",
    "    df['track'] = track\n",
    "    df['danceability'] = danceability\n",
    "    df['energy'] = energy\n",
    "    df['key'] = key\n",
    "    df['loudness'] = loudness\n",
    "    df['mode'] = mode\n",
    "    df['speechiness'] = speechiness\n",
    "    df['acousticness'] = acousticness\n",
    "    df['instrumentalness'] = instrumentalness\n",
    "    df['liveness'] = liveness\n",
    "    df['valence'] = valence\n",
    "    df['tempo'] = tempo\n",
    "    df['urri'] = urri\n",
    "    df['duration_ms'] = duration_ms\n",
    "    \n",
    "    df.to_csv('enter directory path')\n",
    "    \n",
    "    return df"
   ]
  },
  {
   "cell_type": "code",
   "execution_count": null,
   "metadata": {},
   "outputs": [],
   "source": []
  }
 ],
 "metadata": {
  "kernelspec": {
   "display_name": "Python 3",
   "language": "python",
   "name": "python3"
  },
  "language_info": {
   "codemirror_mode": {
    "name": "ipython",
    "version": 3
   },
   "file_extension": ".py",
   "mimetype": "text/x-python",
   "name": "python",
   "nbconvert_exporter": "python",
   "pygments_lexer": "ipython3",
   "version": "3.6.8"
  }
 },
 "nbformat": 4,
 "nbformat_minor": 2
}
